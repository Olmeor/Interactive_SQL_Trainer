{
 "cells": [
  {
   "cell_type": "markdown",
   "id": "f66eaa9c",
   "metadata": {},
   "source": [
    "### База данных \"Учебная аналитика по курсу\""
   ]
  },
  {
   "cell_type": "markdown",
   "id": "8c681f9e",
   "metadata": {},
   "source": [
    "В разделе 3.5 в связи с громоздкостью таблиц публикую только решения.\n"
   ]
  },
  {
   "cell_type": "markdown",
   "id": "bbeb8a9d",
   "metadata": {},
   "source": [
    "## 3.5.2 Задание"
   ]
  },
  {
   "cell_type": "markdown",
   "id": "223c4ddc",
   "metadata": {},
   "source": [
    "Отобрать все шаги, в которых рассматриваются вложенные запросы (то есть в названии шага упоминаются вложенные запросы). Указать к какому уроку и модулю они относятся. Для этого вывести 3 поля:\n",
    "\n",
    "* в поле **Модуль** указать номер модуля и его название через пробел;\n",
    "* в поле **Урок** указать номер модуля, порядковый номер урока (**lesson_position**) через точку и название урока через пробел;\n",
    "* в поле **Шаг** указать номер модуля, порядковый номер урока (**lesson_position**) через точку, порядковый номер шага (**step_position**) через точку и название шага через пробел.  \n",
    "  \n",
    "Длину полей **Модуль** и **Урок** ограничить 19 символами, при этом слишком длинные надписи обозначить многоточием в конце (16 символов - это номер модуля или урока, пробел и  название **Урока** или **Модуля** к ним присоединить \"**...**\"). Информацию отсортировать по возрастанию номеров модулей, порядковых номеров уроков и порядковых номеров шагов."
   ]
  },
  {
   "cell_type": "markdown",
   "id": "c481422b",
   "metadata": {},
   "source": [
    "```mysql\n",
    "SELECT\n",
    "    CONCAT(LEFT(CONCAT(module_id, ' ', module_name), 16), '...') AS Модуль,\n",
    "    CONCAT(LEFT(CONCAT(module_id, '.', lesson_position, ' ', lesson_name), 16), '...') AS Урок,\n",
    "    CONCAT(module_id, '.', lesson_position, '.', step_position, ' ', step_name) AS Шаг\n",
    "FROM\n",
    "    module\n",
    "    JOIN lesson USING(module_id)\n",
    "    JOIN step USING(lesson_id)\n",
    "WHERE\n",
    "    step_name LIKE '%вложен%'\n",
    "ORDER BY\n",
    "    Модуль,\n",
    "    Урок,\n",
    "    Шаг;\n",
    "```"
   ]
  },
  {
   "cell_type": "markdown",
   "id": "8e2a0af8",
   "metadata": {},
   "source": [
    "## 3.5.3 Задание"
   ]
  },
  {
   "cell_type": "markdown",
   "id": "e8e16f38",
   "metadata": {},
   "source": [
    "Заполнить таблицу **step_keyword** следующим образом: если ключевое слово есть в названии шага, то включить в **step_keyword** строку с **id** шага и **id** ключевого слова. "
   ]
  },
  {
   "cell_type": "markdown",
   "id": "1f2f5347",
   "metadata": {},
   "source": [
    "```mysql\n",
    "INSERT INTO\n",
    "    step_keyword(step_id, keyword_id)\n",
    "SELECT\n",
    "    step_id,\n",
    "    keyword_id\n",
    "FROM\n",
    "    keyword, step\n",
    "WHERE\n",
    "    REGEXP_INSTR(step_name, CONCAT('\\\\b', keyword_name, '\\\\b')) > 0;\n",
    "\n",
    "SELECT * FROM step_keyword;\n",
    "```"
   ]
  },
  {
   "cell_type": "markdown",
   "id": "cb4a7449",
   "metadata": {},
   "source": [
    "## 3.5.4 Задание"
   ]
  },
  {
   "cell_type": "markdown",
   "id": "3ca29944",
   "metadata": {},
   "source": [
    "Реализовать поиск по ключевым словам. Вывести шаги, с которыми связаны ключевые слова **MAX** и **AVG** одновременно. Для шагов указать **id** модуля, позицию урока в модуле, позицию шага в уроке через точку, после позиции шага перед заголовком - пробел. Позицию шага в уроке вывести в виде двух цифр (если позиция шага меньше 10, то перед цифрой поставить 0). Столбец назвать **Шаг**. Информацию отсортировать по первому столбцу в алфавитном порядке."
   ]
  },
  {
   "cell_type": "markdown",
   "id": "bccf2693",
   "metadata": {},
   "source": [
    "```mysql\n",
    "SELECT\n",
    "    CONCAT(module_id, '.', lesson_position, '.', LPAD(step_position, 2, '0'), ' ', step_name) AS Шаг\n",
    "FROM\n",
    "    module\n",
    "    JOIN lesson USING(module_id)\n",
    "    JOIN step USING(lesson_id)\n",
    "    JOIN step_keyword USING(step_id)\n",
    "    JOIN keyword USING(keyword_id)\n",
    "WHERE\n",
    "    keyword_name IN ('MAX', 'AVG')\n",
    "GROUP BY\n",
    "    Шаг\n",
    "HAVING\n",
    "    COUNT(*) = 2\n",
    "ORDER BY\n",
    "    1;\n",
    "```"
   ]
  },
  {
   "cell_type": "markdown",
   "id": "c38edb96",
   "metadata": {},
   "source": [
    "## 3.5.5 Выборка данных по нескольким условиям, оператор CASE. Задание"
   ]
  },
  {
   "cell_type": "markdown",
   "id": "48a59e2e",
   "metadata": {},
   "source": [
    "Посчитать, сколько студентов относится к каждой группе. Столбцы назвать **Группа, Интервал, Количество**. Указать границы интервала."
   ]
  },
  {
   "cell_type": "markdown",
   "id": "80b92fef",
   "metadata": {},
   "source": [
    "```mysql\n",
    "SELECT\n",
    "    Группа,\n",
    "    CASE\n",
    "        WHEN Группа = \"I\" THEN \"от 0 до 10\"\n",
    "        WHEN Группа = \"II\" THEN \"от 11 до 15\"\n",
    "        WHEN Группа = \"III\" THEN \"от 16 до 27\"\n",
    "        ELSE \"больше 27\"\n",
    "    END AS Интервал,\n",
    "    COUNT(*) AS Количество\n",
    "FROM\n",
    "    (\n",
    "    SELECT student_name, rate, \n",
    "    CASE\n",
    "        WHEN rate <= 10 THEN \"I\"\n",
    "        WHEN rate <= 15 THEN \"II\"\n",
    "        WHEN rate <= 27 THEN \"III\"\n",
    "        ELSE \"IV\"\n",
    "    END AS Группа\n",
    "    FROM      \n",
    "        (\n",
    "         SELECT student_name, count(*) as rate\n",
    "         FROM \n",
    "             (\n",
    "              SELECT student_name, step_id\n",
    "              FROM \n",
    "                  student \n",
    "                  INNER JOIN step_student USING(student_id)\n",
    "              WHERE result = \"correct\"\n",
    "              GROUP BY student_name, step_id\n",
    "             ) query_in\n",
    "         GROUP BY student_name \n",
    "         ORDER BY 2\n",
    "        ) query_in_1) query_in_2\n",
    "GROUP BY\n",
    "    Группа;\n",
    "```"
   ]
  },
  {
   "cell_type": "markdown",
   "id": "d560dd2b",
   "metadata": {},
   "source": [
    "## 3.5.6 Табличные выражения, оператор WITH. Задание"
   ]
  },
  {
   "cell_type": "markdown",
   "id": "124b0f0a",
   "metadata": {},
   "source": [
    "Исправить запрос примера так: для шагов, которые  не имеют неверных ответов,  указать 100 как процент успешных попыток, если же шаг не имеет верных ответов, указать 0. Информацию отсортировать сначала по возрастанию успешности, а затем по названию шага в алфавитном порядке."
   ]
  },
  {
   "cell_type": "markdown",
   "id": "11c1614b",
   "metadata": {},
   "source": [
    "```mysql\n",
    "WITH get_count_correct (st_n_c, count_correct) \n",
    "  AS (\n",
    "    SELECT step_name, count(*)\n",
    "    FROM \n",
    "        step \n",
    "        INNER JOIN step_student USING (step_id)\n",
    "    WHERE result = \"correct\"\n",
    "    GROUP BY step_name\n",
    "   ),\n",
    "  get_count_wrong (st_n_w, count_wrong) \n",
    "  AS (\n",
    "    SELECT step_name, count(*)\n",
    "    FROM \n",
    "        step \n",
    "        INNER JOIN step_student USING (step_id)\n",
    "    WHERE result = \"wrong\"\n",
    "    GROUP BY step_name\n",
    "   )  \n",
    "SELECT st_n_c AS Шаг,\n",
    "    IFNULL(ROUND(count_correct / (count_correct + count_wrong) * 100), 100) AS Успешность\n",
    "FROM  \n",
    "    get_count_correct \n",
    "    LEFT JOIN get_count_wrong ON st_n_c = st_n_w\n",
    "UNION\n",
    "SELECT st_n_w AS Шаг,\n",
    "    IFNULL(ROUND(count_correct / (count_correct + count_wrong) * 100), 0) AS Успешность\n",
    "FROM  \n",
    "    get_count_correct \n",
    "    RIGHT JOIN get_count_wrong ON st_n_c = st_n_w\n",
    "ORDER BY 2, 1;\n",
    "```"
   ]
  },
  {
   "cell_type": "markdown",
   "id": "92cccea9",
   "metadata": {},
   "source": [
    "## 3.5.7 Задание"
   ]
  },
  {
   "cell_type": "markdown",
   "id": "be3ab23f",
   "metadata": {},
   "source": [
    "Вычислить прогресс пользователей по курсу. Прогресс вычисляется как отношение верно пройденных шагов к общему количеству шагов в процентах, округленное до целого. В нашей базе данные о решениях занесены не для всех шагов, поэтому общее количество шагов определить как количество различных шагов в таблице **step_student**.\n",
    "\n",
    "Тем пользователям, которые прошли все шаги (прогресс = 100%) выдать \"Сертификат с отличием\". Тем, у кого прогресс больше или равен 80% - \"Сертификат\". Для остальных записей в столбце **Результат** задать пустую строку (\"\").\n",
    "\n",
    "Информацию отсортировать по убыванию прогресса, затем по имени пользователя в алфавитном порядке."
   ]
  },
  {
   "cell_type": "markdown",
   "id": "b8a9c3f4",
   "metadata": {},
   "source": [
    "```mysql\n",
    "SET @max_progress = (SELECT COUNT(DISTINCT step_id) FROM step_student);\n",
    "    \n",
    "WITH student_progress (student_id, progress) AS\n",
    "    (\n",
    "     SELECT\n",
    "        student_id,\n",
    "        ROUND(COUNT(DISTINCT step_id) / @max_progress * 100) AS progress\n",
    "     FROM\n",
    "         step_student\n",
    "     WHERE\n",
    "         result = \"correct\"\n",
    "     GROUP BY\n",
    "         student_id\n",
    "    )\n",
    "SELECT\n",
    "    student_name AS Студент,\n",
    "    progress AS Прогресс,\n",
    "    CASE\n",
    "        WHEN progress = 100 THEN \"Сертификат с отличием\"\n",
    "        WHEN progress BETWEEN 80 AND 99 THEN \"Сертификат\"\n",
    "        ELSE \"\"\n",
    "    END AS Результат\n",
    "FROM\n",
    "    student\n",
    "    JOIN student_progress USING(student_id)\n",
    "ORDER BY\n",
    "    Прогресс DESC,\n",
    "    Студент ASC;\n",
    "```"
   ]
  },
  {
   "cell_type": "markdown",
   "id": "a28fca05",
   "metadata": {},
   "source": [
    "## 3.5.8 Оконные функции, оператор OVER, ORDER BY. Задание"
   ]
  },
  {
   "cell_type": "markdown",
   "id": "e859cdbb",
   "metadata": {},
   "source": [
    "Для студента с именем student_61 вывести все его попытки: название шага, результат и дату отправки попытки (**submission_time**). Информацию отсортировать по дате отправки попытки и указать, сколько минут прошло между отправкой соседних попыток. Название шага ограничить 20 символами и добавить \"**...**\". Столбцы назвать **Студент, Шаг, Результат, Дата_отправки, Разница**."
   ]
  },
  {
   "cell_type": "markdown",
   "id": "c170a40f",
   "metadata": {},
   "source": [
    "```mysql\n",
    "SELECT\n",
    "    student_name AS Студент,\n",
    "    CONCAT(LEFT(CONCAT(step_name), 20), '...') AS Шаг,\n",
    "    result AS Результат,\n",
    "    FROM_UNIXTIME(submission_time) AS Дата_отправки,\n",
    "    SEC_TO_TIME(submission_time - LAG(submission_time, 1, submission_time) OVER (ORDER BY submission_time)) AS Разница\n",
    "FROM\n",
    "    student \n",
    "    JOIN step_student USING(student_id)\n",
    "    JOIN step USING(step_id)\n",
    "WHERE\n",
    "    student_name = 'student_61'\n",
    "ORDER BY\n",
    "    submission_time;\n",
    "```"
   ]
  },
  {
   "cell_type": "markdown",
   "id": "b0fc97e0",
   "metadata": {},
   "source": [
    "## 3.5.9 Задание"
   ]
  },
  {
   "cell_type": "markdown",
   "id": "53d55a10",
   "metadata": {},
   "source": [
    "Посчитать среднее время, за которое пользователи проходят урок по следующему алгоритму:\n",
    "* для каждого пользователя вычислить время прохождения **шага** как сумму времени, потраченного на каждую попытку (время попытки - это разница между временем отправки задания и временем начала попытки), при этом попытки, которые длились больше 4 часов не учитывать, так как пользователь мог просто оставить задание открытым в браузере, а вернуться к нему на следующий день;\n",
    "* для каждого студента посчитать общее время, которое он затратил на каждый урок;\n",
    "* вычислить среднее время выполнения урока в часах, результат округлить до 2-х знаков после запятой;\n",
    "* вывести информацию по возрастанию времени, пронумеровав строки, для каждого урока указать номер модуля и его позицию в нем.  \n",
    "\n",
    "Столбцы результата назвать **Номер, Урок, Среднее_время**."
   ]
  },
  {
   "cell_type": "markdown",
   "id": "32cccc90",
   "metadata": {},
   "source": [
    "```mysql\n",
    "WITH query_in_1 (student_id, module_id, lesson_position, lesson_name, step_time) AS (\n",
    "    SELECT\n",
    "        student_id,\n",
    "        module_id,\n",
    "        lesson_position,\n",
    "        lesson_name,\n",
    "        SUM(submission_time - attempt_time) AS step_time\n",
    "    FROM\n",
    "        module\n",
    "        JOIN lesson USING(module_id)\n",
    "        JOIN step USING(lesson_id)\n",
    "        JOIN step_student USING(step_id)\n",
    "    WHERE\n",
    "        submission_time - attempt_time < 4 * 3600\n",
    "    GROUP BY\n",
    "        student_id, module_id, lesson_position, lesson_name\n",
    "    )\n",
    "SELECT\n",
    "    ROW_NUMBER() OVER (ORDER BY ROUND(AVG(lesson_time), 2) ASC) AS Номер,\n",
    "    Урок,\n",
    "    ROUND(AVG(lesson_time), 2) AS Среднее_время\n",
    "FROM (\n",
    "    SELECT\n",
    "        CONCAT(module_id, '.', lesson_position, ' ', lesson_name) AS Урок,\n",
    "        step_time / 3600 as lesson_time\n",
    "    FROM\n",
    "        query_in_1 ) query_in_2\n",
    "GROUP BY\n",
    "    Урок;\n",
    "```"
   ]
  },
  {
   "cell_type": "markdown",
   "id": "eb658b70",
   "metadata": {},
   "source": [
    "## 3.5.10 Оконные функции, оператор OVER, PARTITION BY. Задание"
   ]
  },
  {
   "cell_type": "markdown",
   "id": "bda8e741",
   "metadata": {},
   "source": [
    "Вычислить рейтинг каждого студента относительно студента, прошедшего наибольшее количество шагов в модуле (вычисляется как отношение количества пройденных студентом шагов к максимальному количеству пройденных шагов, умноженное на 100). Вывести номер модуля, имя студента, количество пройденных им шагов и относительный рейтинг. Относительный рейтинг округлить до одного знака после запятой. Столбцы назвать **Модуль**, **Студент**, **Пройдено_шагов** и **Относительный_рейтинг**  соответственно. Информацию отсортировать сначала по возрастанию номера модуля, потом по убыванию относительного рейтинга и, наконец, по имени студента в алфавитном порядке."
   ]
  },
  {
   "cell_type": "markdown",
   "id": "30bc2449",
   "metadata": {},
   "source": [
    "```mysql\n",
    "WITH get_rate_lesson(mod_id, stud, rate) AS (\n",
    "    SELECT\n",
    "    module_id,\n",
    "    student_name,\n",
    "    count(DISTINCT step_id)\n",
    "FROM\n",
    "    student\n",
    "    INNER JOIN step_student USING(student_id)\n",
    "    INNER JOIN step USING (step_id)\n",
    "    INNER JOIN lesson USING (lesson_id)\n",
    "WHERE\n",
    "    result = \"correct\"\n",
    "GROUP BY\n",
    "    module_id,\n",
    "    student_name\n",
    ")\n",
    "SELECT\n",
    "    mod_id AS Модуль,\n",
    "    stud AS Студент,\n",
    "    rate AS Пройдено_шагов,\n",
    "    ROUND(rate / (MAX(rate) OVER (PARTITION BY mod_id)) * 100, 1) AS Относительный_рейтинг\n",
    "FROM\n",
    "    get_rate_lesson \n",
    "ORDER BY\n",
    "    Модуль ASC,\n",
    "    Относительный_рейтинг DESC,\n",
    "    Студент ASC;\n",
    "```"
   ]
  },
  {
   "cell_type": "markdown",
   "id": "87910b2c",
   "metadata": {},
   "source": [
    "## 3.5.11 Задание"
   ]
  },
  {
   "cell_type": "markdown",
   "id": "f8ab7b3b",
   "metadata": {},
   "source": [
    "Проанализировать, в каком порядке и с каким интервалом пользователь отправлял последнее верно выполненное задание каждого урока. В базе занесены попытки студентов  для трех уроков курса, поэтому анализ проводить только для этих уроков.\n",
    "\n",
    "Для студентов прошедших как минимум по одному шагу в каждом уроке, найти последний пройденный шаг каждого урока - крайний шаг, и указать:\n",
    "\n",
    "* имя студента;\n",
    "* номер урока, состоящий из номера модуля и через точку позиции каждого урока в модуле;\n",
    "* время отправки  - время подачи решения на проверку;\n",
    "* разницу во времени отправки между текущим и предыдущим крайним шагом в днях, при этом для первого шага поставить прочерк (\"-\"), а количество дней округлить до целого в большую сторону.  \n",
    "\n",
    "Столбцы назвать **Студент**, **Урок**,  **Макс_время_отправки** и **Интервал  соответственно**. Отсортировать результаты по имени студента в алфавитном порядке, а потом по возрастанию времени отправки."
   ]
  },
  {
   "cell_type": "markdown",
   "id": "8583dce5",
   "metadata": {},
   "source": [
    "```mysql\n",
    "WITH max_time AS (\n",
    "    SELECT\n",
    "        student_name,\n",
    "        CONCAT(module_id, '.', lesson_position) AS Урок, MAX(submission_time) AS mt\n",
    "    FROM\n",
    "        step_student\n",
    "        JOIN step USING(step_id)\n",
    "        JOIN lesson USING(lesson_id)\n",
    "        JOIN student USING(student_id)\n",
    "    WHERE result = 'correct'\n",
    "    GROUP BY\n",
    "        student_name,\n",
    "        lesson_id),\n",
    "        requirements AS\n",
    "        (SELECT student_name\n",
    "         FROM max_time\n",
    "         GROUP BY student_name\n",
    "         HAVING COUNT(*) >= 3 )\n",
    "SELECT\n",
    "    student_name AS Студент,\n",
    "    Урок,\n",
    "    FROM_UNIXTIME(mt) AS Макс_время_отправки,\n",
    "    IFNULL(CEIL((mt - LAG(mt) OVER(PARTITION BY student_name ORDER BY mt)) / 86400), '-') AS Интервал\n",
    "FROM\n",
    "    max_time\n",
    "    JOIN requirements USING(student_name)\n",
    "ORDER BY 1, 3\n",
    "```"
   ]
  },
  {
   "cell_type": "markdown",
   "id": "50274f85",
   "metadata": {},
   "source": [
    "## 3.5.12 Задание"
   ]
  },
  {
   "cell_type": "markdown",
   "id": "c3d834ad",
   "metadata": {},
   "source": [
    "Для студента с именем **student_59** вывести следующую информацию по всем его попыткам:\n",
    "\n",
    "* информация о шаге: номер модуля, символ '.', позиция урока в модуле, символ '.', позиция шага в модуле;\n",
    "* порядковый номер попытки для каждого шага - определяется по возрастанию времени отправки попытки;\n",
    "* результат попытки;\n",
    "* время попытки (преобразованное к формату времени) - определяется как разность между временем отправки попытки и времени ее начала, в случае если попытка длилась более 1 часа, то время попытки заменить на среднее время всех попыток пользователя по всем шагам без учета тех, которые длились больше 1 часа;\n",
    "* относительное время попытки  - определяется как отношение времени попытки (с учетом замены времени попытки) к суммарному времени всех попыток  шага, округленное до двух знаков после запятой.  \n",
    "\n",
    "Столбцы назвать **Студент**,  **Шаг**, **Номер_попытки**, **Результат**, **Время_попытки** и **Относительное_время**. Информацию отсортировать сначала по возрастанию **id** шага, а затем по возрастанию номера попытки (определяется по времени отправки попытки).  \n",
    "**Пояснение**: Перед тем, как переводить Время_попытки к формату времени, округлите до целого разницу, вычисленную в секундах."
   ]
  },
  {
   "cell_type": "markdown",
   "id": "a63ab3e5",
   "metadata": {},
   "source": [
    "```mysql\n",
    "WITH\n",
    "average_time AS\n",
    "(\n",
    "    SELECT student_name as Студент, AVG(submission_time - attempt_time) as average_time\n",
    "    FROM student\n",
    "    left join step_student USING(student_id)\n",
    "    WHERE submission_time - attempt_time < 3600 and student_name = 'student_59'\n",
    "    GROUP BY student_name\n",
    "),\n",
    "all_data AS\n",
    "(\n",
    "    SELECT student_name as Студент,\n",
    "        step_id,\n",
    "        CONCAT(module_id, '.', lesson_position, '.', step_position) as Шаг,\n",
    "        result as Результат,\n",
    "        ROW_NUMBER() OVER (PARTITION BY step_id ORDER BY submission_time asc) AS Номер_попытки,\n",
    "        if(submission_time - attempt_time > 3600,average_time,submission_time - attempt_time) as Время_попытки\n",
    "    FROM lesson\n",
    "        left join step USING(lesson_id)\n",
    "        left join step_student USING(step_id)\n",
    "        left join student USING(student_id)\n",
    "        left join average_time on average_time.Студент = student.student_name\n",
    "    WHERE student_name = 'student_59'\n",
    ")\n",
    "SELECT\n",
    "    Студент,\n",
    "    Шаг,\n",
    "    Номер_попытки,\n",
    "    Результат,    \n",
    "    SEC_TO_TIME(ROUND(Время_попытки,0)) as Время_попытки,\n",
    "    ROUND(100*Время_попытки / sum(Время_попытки) OVER (PARTITION BY step_id),2) as Относительное_время\n",
    "FROM all_data\n",
    "left join average_time using(Студент)\n",
    "ORDER BY step_id,  Номер_попытки\n",
    "```"
   ]
  },
  {
   "cell_type": "markdown",
   "id": "5d2ab146",
   "metadata": {},
   "source": [
    "## 3.5.13 Задание"
   ]
  },
  {
   "cell_type": "markdown",
   "id": "39f0fed0",
   "metadata": {},
   "source": [
    "Online курс обучающиеся могут проходить по различным траекториям, проследить за которыми можно по способу решения ими заданий шагов курса. Большинство обучающихся за несколько попыток  получают правильный ответ \n",
    "и переходят к следующему шагу. Но есть такие, что остаются на шаге, выполняя несколько верных попыток, или переходят к следующему, оставив нерешенные шаги.\n",
    "\n",
    "Выделив эти \"необычные\" действия обучающихся, можно проследить их траекторию работы с курсом и проанализировать задания, для которых эти действия выполнялись, а затем их как-то изменить. \n",
    "\n",
    "Для этой цели необходимо выделить группы обучающихся по способу прохождения шагов:\n",
    "\n",
    "* **I группа** - это те пользователи, которые после верной попытки решения шага делают неверную (скорее всего для того, чтобы поэкспериментировать или проверить, как работают примеры);\n",
    "* **II группа** - это те пользователи, которые делают больше одной верной попытки для одного шага (возможно, улучшают свое решение или пробуют другой вариант);\n",
    "* **III группа** - это те пользователи, которые не смогли решить задание какого-то шага (у них все попытки по этому шагу - неверные).  \n",
    "\n",
    "Вывести группу (**I, II, III**), имя пользователя, количество шагов, которые пользователь выполнил по соответствующему способу. Столбцы назвать **Группа, Студент, Количество_шагов**. Отсортировать информацию по возрастанию номеров групп, потом по убыванию количества шагов и, наконец, по имени студента в алфавитном порядке.  \n",
    "**Пояснение**: На основе этого задания я посчитала количество различных обучающихся, относящихся к одной или нескольким группам, выделенным в задании. Получилось, что 22 человека из 64 (34%) проходят курс \"нестандартно\".  Причем пересечение первой и второй   группы  - 9 человек (почти все, кроме одного человека первой группы входят во вторую), первой и третьей группы - пусто, второй и третьей - один человек."
   ]
  },
  {
   "cell_type": "markdown",
   "id": "41f80118",
   "metadata": {},
   "source": [
    "```mysql\n",
    "(WITH X AS(\n",
    "    SELECT\n",
    "        student_name,\n",
    "        step_id,\n",
    "        result,\n",
    "        LAG(result) OVER(PARTITION BY student_id, step_id ORDER BY submission_time) AS prev_result\n",
    "    FROM\n",
    "        student\n",
    "        JOIN step_student USING(student_id))\n",
    "    \n",
    "    SELECT\n",
    "         'I' AS Группа,\n",
    "         student_name AS Студент,\n",
    "         COUNT(distinct step_id) AS Количество_шагов\n",
    "    FROM\n",
    "     X\n",
    "    WHERE\n",
    "        (result, prev_result) = ('wrong', 'correct')\n",
    "    GROUP BY 1,2\n",
    ")\n",
    "UNION\n",
    "(WITH Y AS(\n",
    "    SELECT\n",
    "        student_name,\n",
    "        step_id,\n",
    "        result\n",
    "    FROM\n",
    "        student JOIN step_student USING(student_id)\n",
    "    WHERE\n",
    "        result = 'correct'\n",
    "    GROUP BY 1,2\n",
    "    HAVING COUNT\n",
    "        (result)>1)\n",
    "    \n",
    "    SELECT\n",
    "        'II' AS Группа,\n",
    "        student_name AS Студент,\n",
    "        COUNT(distinct step_id) AS Количество_шагов\n",
    "    FROM\n",
    "        Y\n",
    "    GROUP BY 1,2\n",
    ")\n",
    "UNION\n",
    "(WITH Z AS(\n",
    "    SELECT\n",
    "        student_name,\n",
    "        step_id\n",
    "    FROM\n",
    "        student\n",
    "        JOIN step_student USING(student_id)\n",
    "    GROUP BY 1,2\n",
    "    HAVING SUM(CASE WHEN result = 'correct' THEN 1 ELSE 0 END) = 0 )\n",
    "    \n",
    "    SELECT\n",
    "        'III' AS Группа,\n",
    "        student_name AS Студент,\n",
    "         COUNT(distinct step_id) AS Количество_шагов\n",
    "    FROM\n",
    "        Z\n",
    "    GROUP BY 1,2\n",
    ")\n",
    "ORDER BY 1, 3 DESC, 2;\n",
    "```"
   ]
  }
 ],
 "metadata": {
  "kernelspec": {
   "display_name": "Python 3 (ipykernel)",
   "language": "python",
   "name": "python3"
  },
  "language_info": {
   "codemirror_mode": {
    "name": "ipython",
    "version": 3
   },
   "file_extension": ".py",
   "mimetype": "text/x-python",
   "name": "python",
   "nbconvert_exporter": "python",
   "pygments_lexer": "ipython3",
   "version": "3.9.13"
  }
 },
 "nbformat": 4,
 "nbformat_minor": 5
}
