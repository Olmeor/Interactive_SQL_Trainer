{
 "cells": [
  {
   "cell_type": "markdown",
   "id": "f66eaa9c",
   "metadata": {},
   "source": [
    "### База данных \"Учебная аналитика по курсу\""
   ]
  },
  {
   "cell_type": "markdown",
   "id": "8c681f9e",
   "metadata": {},
   "source": [
    "В разделе 3.5 в связи с громоздкостью таблиц публикую только решения.\n"
   ]
  },
  {
   "cell_type": "markdown",
   "id": "bbeb8a9d",
   "metadata": {},
   "source": [
    "## 3.5.2 Задание"
   ]
  },
  {
   "cell_type": "markdown",
   "id": "223c4ddc",
   "metadata": {},
   "source": [
    "Отобрать все шаги, в которых рассматриваются вложенные запросы (то есть в названии шага упоминаются вложенные запросы). Указать к какому уроку и модулю они относятся. Для этого вывести 3 поля:\n",
    "\n",
    "* в поле **Модуль** указать номер модуля и его название через пробел;\n",
    "* в поле **Урок** указать номер модуля, порядковый номер урока (**lesson_position**) через точку и название урока через пробел;\n",
    "* в поле **Шаг** указать номер модуля, порядковый номер урока (**lesson_position**) через точку, порядковый номер шага (**step_position**) через точку и название шага через пробел.  \n",
    "  \n",
    "Длину полей **Модуль** и **Урок** ограничить 19 символами, при этом слишком длинные надписи обозначить многоточием в конце (16 символов - это номер модуля или урока, пробел и  название **Урока** или **Модуля** к ним присоединить \"**...**\"). Информацию отсортировать по возрастанию номеров модулей, порядковых номеров уроков и порядковых номеров шагов."
   ]
  },
  {
   "cell_type": "markdown",
   "id": "c481422b",
   "metadata": {},
   "source": [
    "```mysql\n",
    "SELECT\n",
    "    CONCAT(LEFT(CONCAT(module_id, ' ', module_name), 16), '...') AS Модуль,\n",
    "    CONCAT(LEFT(CONCAT(module_id, '.', lesson_position, ' ', lesson_name), 16), '...') AS Урок,\n",
    "    CONCAT(module_id, '.', lesson_position, '.', step_position, ' ', step_name) AS Шаг\n",
    "FROM\n",
    "    module\n",
    "    JOIN lesson USING(module_id)\n",
    "    JOIN step USING(lesson_id)\n",
    "WHERE\n",
    "    step_name LIKE '%вложен%'\n",
    "ORDER BY\n",
    "    Модуль,\n",
    "    Урок,\n",
    "    Шаг;\n",
    "```"
   ]
  },
  {
   "cell_type": "markdown",
   "id": "8e2a0af8",
   "metadata": {},
   "source": [
    "## 3.5.3 Задание"
   ]
  },
  {
   "cell_type": "markdown",
   "id": "e8e16f38",
   "metadata": {},
   "source": [
    "Заполнить таблицу **step_keyword** следующим образом: если ключевое слово есть в названии шага, то включить в **step_keyword** строку с **id** шага и **id** ключевого слова. "
   ]
  },
  {
   "cell_type": "markdown",
   "id": "1f2f5347",
   "metadata": {},
   "source": [
    "```mysql\n",
    "INSERT INTO\n",
    "    step_keyword(step_id, keyword_id)\n",
    "SELECT\n",
    "    step_id,\n",
    "    keyword_id\n",
    "FROM\n",
    "    keyword, step\n",
    "WHERE\n",
    "    REGEXP_INSTR(step_name, CONCAT('\\\\b', keyword_name, '\\\\b')) > 0;\n",
    "\n",
    "SELECT * FROM step_keyword;\n",
    "```"
   ]
  },
  {
   "cell_type": "markdown",
   "id": "cb4a7449",
   "metadata": {},
   "source": [
    "## 3.5.4 Задание"
   ]
  },
  {
   "cell_type": "markdown",
   "id": "3ca29944",
   "metadata": {},
   "source": [
    "Реализовать поиск по ключевым словам. Вывести шаги, с которыми связаны ключевые слова **MAX** и **AVG** одновременно. Для шагов указать **id** модуля, позицию урока в модуле, позицию шага в уроке через точку, после позиции шага перед заголовком - пробел. Позицию шага в уроке вывести в виде двух цифр (если позиция шага меньше 10, то перед цифрой поставить 0). Столбец назвать **Шаг**. Информацию отсортировать по первому столбцу в алфавитном порядке."
   ]
  },
  {
   "cell_type": "markdown",
   "id": "bccf2693",
   "metadata": {},
   "source": [
    "```mysql\n",
    "SELECT\n",
    "    CONCAT(module_id, '.', lesson_position, '.', LPAD(step_position, 2, '0'), ' ', step_name) AS Шаг\n",
    "FROM\n",
    "    module\n",
    "    JOIN lesson USING(module_id)\n",
    "    JOIN step USING(lesson_id)\n",
    "    JOIN step_keyword USING(step_id)\n",
    "    JOIN keyword USING(keyword_id)\n",
    "WHERE\n",
    "    keyword_name IN ('MAX', 'AVG')\n",
    "GROUP BY\n",
    "    Шаг\n",
    "HAVING\n",
    "    COUNT(*) = 2\n",
    "ORDER BY\n",
    "    1;\n",
    "```"
   ]
  },
  {
   "cell_type": "markdown",
   "id": "c38edb96",
   "metadata": {},
   "source": [
    "## 3.5.5 Выборка данных по нескольким условиям, оператор CASE. Задание"
   ]
  },
  {
   "cell_type": "markdown",
   "id": "48a59e2e",
   "metadata": {},
   "source": [
    "Посчитать, сколько студентов относится к каждой группе. Столбцы назвать **Группа, Интервал, Количество**. Указать границы интервала."
   ]
  },
  {
   "cell_type": "markdown",
   "id": "80b92fef",
   "metadata": {},
   "source": [
    "```mysql\n",
    "SELECT\n",
    "    Группа,\n",
    "    CASE\n",
    "        WHEN Группа = \"I\" THEN \"от 0 до 10\"\n",
    "        WHEN Группа = \"II\" THEN \"от 11 до 15\"\n",
    "        WHEN Группа = \"III\" THEN \"от 16 до 27\"\n",
    "        ELSE \"больше 27\"\n",
    "    END AS Интервал,\n",
    "    COUNT(*) AS Количество\n",
    "FROM\n",
    "    (\n",
    "    SELECT student_name, rate, \n",
    "    CASE\n",
    "        WHEN rate <= 10 THEN \"I\"\n",
    "        WHEN rate <= 15 THEN \"II\"\n",
    "        WHEN rate <= 27 THEN \"III\"\n",
    "        ELSE \"IV\"\n",
    "    END AS Группа\n",
    "    FROM      \n",
    "        (\n",
    "         SELECT student_name, count(*) as rate\n",
    "         FROM \n",
    "             (\n",
    "              SELECT student_name, step_id\n",
    "              FROM \n",
    "                  student \n",
    "                  INNER JOIN step_student USING(student_id)\n",
    "              WHERE result = \"correct\"\n",
    "              GROUP BY student_name, step_id\n",
    "             ) query_in\n",
    "         GROUP BY student_name \n",
    "         ORDER BY 2\n",
    "        ) query_in_1) query_in_2\n",
    "GROUP BY\n",
    "    Группа;\n",
    "```"
   ]
  },
  {
   "cell_type": "markdown",
   "id": "d560dd2b",
   "metadata": {},
   "source": [
    "## 3.5.6 Табличные выражения, оператор WITH. Задание"
   ]
  },
  {
   "cell_type": "markdown",
   "id": "124b0f0a",
   "metadata": {},
   "source": [
    "Исправить запрос примера так: для шагов, которые  не имеют неверных ответов,  указать 100 как процент успешных попыток, если же шаг не имеет верных ответов, указать 0. Информацию отсортировать сначала по возрастанию успешности, а затем по названию шага в алфавитном порядке."
   ]
  },
  {
   "cell_type": "markdown",
   "id": "11c1614b",
   "metadata": {},
   "source": [
    "```mysql\n",
    "WITH get_count_correct (st_n_c, count_correct) \n",
    "  AS (\n",
    "    SELECT step_name, count(*)\n",
    "    FROM \n",
    "        step \n",
    "        INNER JOIN step_student USING (step_id)\n",
    "    WHERE result = \"correct\"\n",
    "    GROUP BY step_name\n",
    "   ),\n",
    "  get_count_wrong (st_n_w, count_wrong) \n",
    "  AS (\n",
    "    SELECT step_name, count(*)\n",
    "    FROM \n",
    "        step \n",
    "        INNER JOIN step_student USING (step_id)\n",
    "    WHERE result = \"wrong\"\n",
    "    GROUP BY step_name\n",
    "   )  \n",
    "SELECT st_n_c AS Шаг,\n",
    "    IFNULL(ROUND(count_correct / (count_correct + count_wrong) * 100), 100) AS Успешность\n",
    "FROM  \n",
    "    get_count_correct \n",
    "    LEFT JOIN get_count_wrong ON st_n_c = st_n_w\n",
    "UNION\n",
    "SELECT st_n_w AS Шаг,\n",
    "    IFNULL(ROUND(count_correct / (count_correct + count_wrong) * 100), 0) AS Успешность\n",
    "FROM  \n",
    "    get_count_correct \n",
    "    RIGHT JOIN get_count_wrong ON st_n_c = st_n_w\n",
    "ORDER BY 2, 1;\n",
    "```"
   ]
  },
  {
   "cell_type": "markdown",
   "id": "92cccea9",
   "metadata": {},
   "source": [
    "## 3.5.7 Задание"
   ]
  },
  {
   "cell_type": "markdown",
   "id": "be3ab23f",
   "metadata": {},
   "source": [
    "Вычислить прогресс пользователей по курсу. Прогресс вычисляется как отношение верно пройденных шагов к общему количеству шагов в процентах, округленное до целого. В нашей базе данные о решениях занесены не для всех шагов, поэтому общее количество шагов определить как количество различных шагов в таблице **step_student**.\n",
    "\n",
    "Тем пользователям, которые прошли все шаги (прогресс = 100%) выдать \"Сертификат с отличием\". Тем, у кого прогресс больше или равен 80% - \"Сертификат\". Для остальных записей в столбце **Результат** задать пустую строку (\"\").\n",
    "\n",
    "Информацию отсортировать по убыванию прогресса, затем по имени пользователя в алфавитном порядке."
   ]
  },
  {
   "cell_type": "markdown",
   "id": "b8a9c3f4",
   "metadata": {},
   "source": [
    "```mysql\n",
    "SET @max_progress = (SELECT COUNT(DISTINCT step_id) FROM step_student);\n",
    "    \n",
    "WITH student_progress (student_id, progress) AS\n",
    "    (\n",
    "     SELECT\n",
    "        student_id,\n",
    "        ROUND(COUNT(DISTINCT step_id) / @max_progress * 100) AS progress\n",
    "     FROM\n",
    "         step_student\n",
    "     WHERE\n",
    "         result = \"correct\"\n",
    "     GROUP BY\n",
    "         student_id\n",
    "    )\n",
    "SELECT\n",
    "    student_name AS Студент,\n",
    "    progress AS Прогресс,\n",
    "    CASE\n",
    "        WHEN progress = 100 THEN \"Сертификат с отличием\"\n",
    "        WHEN progress BETWEEN 80 AND 99 THEN \"Сертификат\"\n",
    "        ELSE \"\"\n",
    "    END AS Результат\n",
    "FROM\n",
    "    student\n",
    "    JOIN student_progress USING(student_id)\n",
    "ORDER BY\n",
    "    Прогресс DESC,\n",
    "    Студент ASC;\n",
    "```"
   ]
  },
  {
   "cell_type": "markdown",
   "id": "a28fca05",
   "metadata": {},
   "source": [
    "## 3.5.8 Оконные функции, оператор OVER, ORDER BY. Задание"
   ]
  },
  {
   "cell_type": "markdown",
   "id": "e859cdbb",
   "metadata": {},
   "source": [
    "Для студента с именем student_61 вывести все его попытки: название шага, результат и дату отправки попытки (**submission_time**). Информацию отсортировать по дате отправки попытки и указать, сколько минут прошло между отправкой соседних попыток. Название шага ограничить 20 символами и добавить \"**...**\". Столбцы назвать **Студент, Шаг, Результат, Дата_отправки, Разница**."
   ]
  },
  {
   "cell_type": "markdown",
   "id": "c170a40f",
   "metadata": {},
   "source": [
    "```mysql\n",
    "SELECT\n",
    "    student_name AS Студент,\n",
    "    CONCAT(LEFT(CONCAT(step_name), 20), '...') AS Шаг,\n",
    "    result AS Результат,\n",
    "    FROM_UNIXTIME(submission_time) AS Дата_отправки,\n",
    "    SEC_TO_TIME(submission_time - LAG(submission_time, 1, submission_time) OVER (ORDER BY submission_time)) AS Разница\n",
    "FROM\n",
    "    student \n",
    "    JOIN step_student USING(student_id)\n",
    "    JOIN step USING(step_id)\n",
    "WHERE\n",
    "    student_name = 'student_61'\n",
    "ORDER BY\n",
    "    submission_time;\n",
    "```"
   ]
  },
  {
   "cell_type": "markdown",
   "id": "b0fc97e0",
   "metadata": {},
   "source": [
    "## 3.5.9 Задание"
   ]
  },
  {
   "cell_type": "markdown",
   "id": "53d55a10",
   "metadata": {},
   "source": [
    "Посчитать среднее время, за которое пользователи проходят урок по следующему алгоритму:\n",
    "* для каждого пользователя вычислить время прохождения **шага** как сумму времени, потраченного на каждую попытку (время попытки - это разница между временем отправки задания и временем начала попытки), при этом попытки, которые длились больше 4 часов не учитывать, так как пользователь мог просто оставить задание открытым в браузере, а вернуться к нему на следующий день;\n",
    "* для каждого студента посчитать общее время, которое он затратил на каждый урок;\n",
    "* вычислить среднее время выполнения урока в часах, результат округлить до 2-х знаков после запятой;\n",
    "* вывести информацию по возрастанию времени, пронумеровав строки, для каждого урока указать номер модуля и его позицию в нем.  \n",
    "\n",
    "Столбцы результата назвать **Номер, Урок, Среднее_время**."
   ]
  },
  {
   "cell_type": "markdown",
   "id": "32cccc90",
   "metadata": {},
   "source": [
    "```mysql\n",
    "WITH query_in_1 (student_id, module_id, lesson_position, lesson_name, step_time) AS (\n",
    "    SELECT\n",
    "        student_id,\n",
    "        module_id,\n",
    "        lesson_position,\n",
    "        lesson_name,\n",
    "        SUM(submission_time - attempt_time) AS step_time\n",
    "    FROM\n",
    "        module\n",
    "        JOIN lesson USING(module_id)\n",
    "        JOIN step USING(lesson_id)\n",
    "        JOIN step_student USING(step_id)\n",
    "    WHERE\n",
    "        submission_time - attempt_time < 4 * 3600\n",
    "    GROUP BY\n",
    "        student_id, module_id, lesson_position, lesson_name\n",
    "    )\n",
    "SELECT\n",
    "    ROW_NUMBER() OVER (ORDER BY ROUND(AVG(lesson_time), 2) ASC) AS Номер,\n",
    "    Урок,\n",
    "    ROUND(AVG(lesson_time), 2) AS Среднее_время\n",
    "FROM (\n",
    "    SELECT\n",
    "        CONCAT(module_id, '.', lesson_position, ' ', lesson_name) AS Урок,\n",
    "        step_time / 3600 as lesson_time\n",
    "    FROM\n",
    "        query_in_1 ) query_in_2\n",
    "GROUP BY\n",
    "    Урок;\n",
    "```"
   ]
  },
  {
   "cell_type": "markdown",
   "id": "eb658b70",
   "metadata": {},
   "source": [
    "## 3.5.10 Задание"
   ]
  },
  {
   "cell_type": "markdown",
   "id": "bda8e741",
   "metadata": {},
   "source": []
  },
  {
   "cell_type": "markdown",
   "id": "30bc2449",
   "metadata": {},
   "source": [
    "```mysql\n",
    "\n",
    "```"
   ]
  },
  {
   "cell_type": "markdown",
   "id": "87910b2c",
   "metadata": {},
   "source": [
    "## 3.5.11 Задание"
   ]
  },
  {
   "cell_type": "markdown",
   "id": "f8ab7b3b",
   "metadata": {},
   "source": []
  },
  {
   "cell_type": "markdown",
   "id": "8583dce5",
   "metadata": {},
   "source": [
    "```mysql\n",
    "\n",
    "```"
   ]
  },
  {
   "cell_type": "markdown",
   "id": "50274f85",
   "metadata": {},
   "source": [
    "## 3.5.12 Задание"
   ]
  },
  {
   "cell_type": "markdown",
   "id": "c3d834ad",
   "metadata": {},
   "source": []
  },
  {
   "cell_type": "markdown",
   "id": "a63ab3e5",
   "metadata": {},
   "source": [
    "```mysql\n",
    "\n",
    "```"
   ]
  },
  {
   "cell_type": "markdown",
   "id": "5d2ab146",
   "metadata": {},
   "source": [
    "## 3.5.13 Задание"
   ]
  },
  {
   "cell_type": "markdown",
   "id": "39f0fed0",
   "metadata": {},
   "source": []
  },
  {
   "cell_type": "markdown",
   "id": "41f80118",
   "metadata": {},
   "source": [
    "```mysql\n",
    "\n",
    "```"
   ]
  }
 ],
 "metadata": {
  "kernelspec": {
   "display_name": "Python 3 (ipykernel)",
   "language": "python",
   "name": "python3"
  },
  "language_info": {
   "codemirror_mode": {
    "name": "ipython",
    "version": 3
   },
   "file_extension": ".py",
   "mimetype": "text/x-python",
   "name": "python",
   "nbconvert_exporter": "python",
   "pygments_lexer": "ipython3",
   "version": "3.9.13"
  }
 },
 "nbformat": 4,
 "nbformat_minor": 5
}
